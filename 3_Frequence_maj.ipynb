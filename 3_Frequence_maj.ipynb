{
 "cells": [
  {
   "cell_type": "markdown",
   "metadata": {
    "toc": true
   },
   "source": [
    "<h1>Table of Contents<span class=\"tocSkip\"></span></h1>\n",
    "<div class=\"toc\"><ul class=\"toc-item\"><li><span><a href=\"#Cohorte-initiale\" data-toc-modified-id=\"Cohorte-initiale-1\"><span class=\"toc-item-num\">1&nbsp;&nbsp;</span>Cohorte initiale</a></span><ul class=\"toc-item\"><li><span><a href=\"#Création-des-variables-de-la-cohorte-initiale\" data-toc-modified-id=\"Création-des-variables-de-la-cohorte-initiale-1.1\"><span class=\"toc-item-num\">1.1&nbsp;&nbsp;</span>Création des variables de la cohorte initiale</a></span></li><li><span><a href=\"#Préparation-des-variables-pour-le-clustering\" data-toc-modified-id=\"Préparation-des-variables-pour-le-clustering-1.2\"><span class=\"toc-item-num\">1.2&nbsp;&nbsp;</span>Préparation des variables pour le clustering</a></span></li><li><span><a href=\"#Résultat-de-la-segmentation-initiale\" data-toc-modified-id=\"Résultat-de-la-segmentation-initiale-1.3\"><span class=\"toc-item-num\">1.3&nbsp;&nbsp;</span>Résultat de la segmentation initiale</a></span></li></ul></li><li><span><a href=\"#Suivi-du-ARI-de-la-cohorte-dans-le-temps\" data-toc-modified-id=\"Suivi-du-ARI-de-la-cohorte-dans-le-temps-2\"><span class=\"toc-item-num\">2&nbsp;&nbsp;</span>Suivi du ARI de la cohorte dans le temps</a></span><ul class=\"toc-item\"><li><span><a href=\"#Suivi-par-mois\" data-toc-modified-id=\"Suivi-par-mois-2.1\"><span class=\"toc-item-num\">2.1&nbsp;&nbsp;</span>Suivi par mois</a></span></li><li><span><a href=\"#Suivi-par-semaine\" data-toc-modified-id=\"Suivi-par-semaine-2.2\"><span class=\"toc-item-num\">2.2&nbsp;&nbsp;</span>Suivi par semaine</a></span></li></ul></li></ul></div>"
   ]
  },
  {
   "cell_type": "markdown",
   "metadata": {},
   "source": [
    "Dans ce notebook_03 nous analysons la stabilité dans le temps de la segmentation choisie dans le notebook_02 "
   ]
  },
  {
   "cell_type": "code",
   "execution_count": 1,
   "metadata": {},
   "outputs": [],
   "source": [
    "import pandas as pd\n",
    "import numpy as np\n",
    "import matplotlib.pyplot as plt\n",
    "import seaborn as sns\n",
    "from datetime import datetime\n",
    "from sklearn.compose import ColumnTransformer\n",
    "from sklearn.preprocessing import MinMaxScaler\n",
    "from sklearn.cluster import KMeans\n",
    "from sklearn.metrics import adjusted_rand_score"
   ]
  },
  {
   "cell_type": "code",
   "execution_count": 2,
   "metadata": {},
   "outputs": [
    {
     "data": {
      "text/html": [
       "<div>\n",
       "<style scoped>\n",
       "    .dataframe tbody tr th:only-of-type {\n",
       "        vertical-align: middle;\n",
       "    }\n",
       "\n",
       "    .dataframe tbody tr th {\n",
       "        vertical-align: top;\n",
       "    }\n",
       "\n",
       "    .dataframe thead th {\n",
       "        text-align: right;\n",
       "    }\n",
       "</style>\n",
       "<table border=\"1\" class=\"dataframe\">\n",
       "  <thead>\n",
       "    <tr style=\"text-align: right;\">\n",
       "      <th></th>\n",
       "      <th>order_id</th>\n",
       "      <th>order_status</th>\n",
       "      <th>order_purchase_date</th>\n",
       "      <th>order_delivered_date</th>\n",
       "      <th>order_to_delivery_d</th>\n",
       "      <th>order_to_approval_h</th>\n",
       "      <th>approval_to_carrier_d</th>\n",
       "      <th>carrier_to_customer_d</th>\n",
       "      <th>real_vs_estimated_d</th>\n",
       "      <th>delay</th>\n",
       "      <th>...</th>\n",
       "      <th>customer_lat</th>\n",
       "      <th>customer_lng</th>\n",
       "      <th>distance_sell_cust_km</th>\n",
       "      <th>distance_sell_cust_cat</th>\n",
       "      <th>product_description_lenght</th>\n",
       "      <th>product_photos_qty</th>\n",
       "      <th>volume_cm3</th>\n",
       "      <th>product_weight_kg</th>\n",
       "      <th>product_category_name</th>\n",
       "      <th>order_total_value</th>\n",
       "    </tr>\n",
       "  </thead>\n",
       "  <tbody>\n",
       "    <tr>\n",
       "      <th>0</th>\n",
       "      <td>e481f51cbdc54678b7cc49136f2d6af7</td>\n",
       "      <td>delivered</td>\n",
       "      <td>2017-10-02 10:56:33</td>\n",
       "      <td>2017-10-10 21:25:13</td>\n",
       "      <td>8.436574</td>\n",
       "      <td>0.178333</td>\n",
       "      <td>2.366493</td>\n",
       "      <td>6.062650</td>\n",
       "      <td>-7.107488</td>\n",
       "      <td>0</td>\n",
       "      <td>...</td>\n",
       "      <td>-23.576983</td>\n",
       "      <td>-46.587161</td>\n",
       "      <td>18.579025</td>\n",
       "      <td>(-0.001, 116.984]</td>\n",
       "      <td>268.0</td>\n",
       "      <td>4.0</td>\n",
       "      <td>1976.0</td>\n",
       "      <td>0.50</td>\n",
       "      <td>home_appliances</td>\n",
       "      <td>38.71</td>\n",
       "    </tr>\n",
       "    <tr>\n",
       "      <th>1</th>\n",
       "      <td>e481f51cbdc54678b7cc49136f2d6af7</td>\n",
       "      <td>delivered</td>\n",
       "      <td>2017-10-02 10:56:33</td>\n",
       "      <td>2017-10-10 21:25:13</td>\n",
       "      <td>8.436574</td>\n",
       "      <td>0.178333</td>\n",
       "      <td>2.366493</td>\n",
       "      <td>6.062650</td>\n",
       "      <td>-7.107488</td>\n",
       "      <td>0</td>\n",
       "      <td>...</td>\n",
       "      <td>-23.576983</td>\n",
       "      <td>-46.587161</td>\n",
       "      <td>18.579025</td>\n",
       "      <td>(-0.001, 116.984]</td>\n",
       "      <td>268.0</td>\n",
       "      <td>4.0</td>\n",
       "      <td>1976.0</td>\n",
       "      <td>0.50</td>\n",
       "      <td>home_appliances</td>\n",
       "      <td>38.71</td>\n",
       "    </tr>\n",
       "    <tr>\n",
       "      <th>2</th>\n",
       "      <td>e481f51cbdc54678b7cc49136f2d6af7</td>\n",
       "      <td>delivered</td>\n",
       "      <td>2017-10-02 10:56:33</td>\n",
       "      <td>2017-10-10 21:25:13</td>\n",
       "      <td>8.436574</td>\n",
       "      <td>0.178333</td>\n",
       "      <td>2.366493</td>\n",
       "      <td>6.062650</td>\n",
       "      <td>-7.107488</td>\n",
       "      <td>0</td>\n",
       "      <td>...</td>\n",
       "      <td>-23.576983</td>\n",
       "      <td>-46.587161</td>\n",
       "      <td>18.579025</td>\n",
       "      <td>(-0.001, 116.984]</td>\n",
       "      <td>268.0</td>\n",
       "      <td>4.0</td>\n",
       "      <td>1976.0</td>\n",
       "      <td>0.50</td>\n",
       "      <td>home_appliances</td>\n",
       "      <td>38.71</td>\n",
       "    </tr>\n",
       "    <tr>\n",
       "      <th>3</th>\n",
       "      <td>53cdb2fc8bc7dce0b6741e2150273451</td>\n",
       "      <td>delivered</td>\n",
       "      <td>2018-07-24 20:41:37</td>\n",
       "      <td>2018-08-07 15:27:45</td>\n",
       "      <td>13.782037</td>\n",
       "      <td>30.713889</td>\n",
       "      <td>0.462882</td>\n",
       "      <td>12.039410</td>\n",
       "      <td>-5.355729</td>\n",
       "      <td>0</td>\n",
       "      <td>...</td>\n",
       "      <td>-12.177924</td>\n",
       "      <td>-44.660711</td>\n",
       "      <td>851.628720</td>\n",
       "      <td>(529.701, 873.784]</td>\n",
       "      <td>178.0</td>\n",
       "      <td>1.0</td>\n",
       "      <td>4693.0</td>\n",
       "      <td>0.40</td>\n",
       "      <td>cosmetics</td>\n",
       "      <td>141.46</td>\n",
       "    </tr>\n",
       "    <tr>\n",
       "      <th>4</th>\n",
       "      <td>47770eb9100c2d0c44946d9cf07ec65d</td>\n",
       "      <td>delivered</td>\n",
       "      <td>2018-08-08 08:38:49</td>\n",
       "      <td>2018-08-17 18:06:29</td>\n",
       "      <td>9.394213</td>\n",
       "      <td>0.276111</td>\n",
       "      <td>0.204595</td>\n",
       "      <td>9.178113</td>\n",
       "      <td>-17.245498</td>\n",
       "      <td>0</td>\n",
       "      <td>...</td>\n",
       "      <td>-16.745150</td>\n",
       "      <td>-48.514783</td>\n",
       "      <td>514.491409</td>\n",
       "      <td>(348.053, 529.701]</td>\n",
       "      <td>232.0</td>\n",
       "      <td>1.0</td>\n",
       "      <td>9576.0</td>\n",
       "      <td>0.42</td>\n",
       "      <td>auto</td>\n",
       "      <td>179.12</td>\n",
       "    </tr>\n",
       "  </tbody>\n",
       "</table>\n",
       "<p>5 rows × 56 columns</p>\n",
       "</div>"
      ],
      "text/plain": [
       "                           order_id order_status  order_purchase_date  \\\n",
       "0  e481f51cbdc54678b7cc49136f2d6af7    delivered  2017-10-02 10:56:33   \n",
       "1  e481f51cbdc54678b7cc49136f2d6af7    delivered  2017-10-02 10:56:33   \n",
       "2  e481f51cbdc54678b7cc49136f2d6af7    delivered  2017-10-02 10:56:33   \n",
       "3  53cdb2fc8bc7dce0b6741e2150273451    delivered  2018-07-24 20:41:37   \n",
       "4  47770eb9100c2d0c44946d9cf07ec65d    delivered  2018-08-08 08:38:49   \n",
       "\n",
       "  order_delivered_date  order_to_delivery_d  order_to_approval_h  \\\n",
       "0  2017-10-10 21:25:13             8.436574             0.178333   \n",
       "1  2017-10-10 21:25:13             8.436574             0.178333   \n",
       "2  2017-10-10 21:25:13             8.436574             0.178333   \n",
       "3  2018-08-07 15:27:45            13.782037            30.713889   \n",
       "4  2018-08-17 18:06:29             9.394213             0.276111   \n",
       "\n",
       "   approval_to_carrier_d  carrier_to_customer_d  real_vs_estimated_d  delay  \\\n",
       "0               2.366493               6.062650            -7.107488      0   \n",
       "1               2.366493               6.062650            -7.107488      0   \n",
       "2               2.366493               6.062650            -7.107488      0   \n",
       "3               0.462882              12.039410            -5.355729      0   \n",
       "4               0.204595               9.178113           -17.245498      0   \n",
       "\n",
       "   ...  customer_lat  customer_lng distance_sell_cust_km  \\\n",
       "0  ...    -23.576983    -46.587161             18.579025   \n",
       "1  ...    -23.576983    -46.587161             18.579025   \n",
       "2  ...    -23.576983    -46.587161             18.579025   \n",
       "3  ...    -12.177924    -44.660711            851.628720   \n",
       "4  ...    -16.745150    -48.514783            514.491409   \n",
       "\n",
       "  distance_sell_cust_cat  product_description_lenght  product_photos_qty  \\\n",
       "0      (-0.001, 116.984]                       268.0                 4.0   \n",
       "1      (-0.001, 116.984]                       268.0                 4.0   \n",
       "2      (-0.001, 116.984]                       268.0                 4.0   \n",
       "3     (529.701, 873.784]                       178.0                 1.0   \n",
       "4     (348.053, 529.701]                       232.0                 1.0   \n",
       "\n",
       "   volume_cm3 product_weight_kg product_category_name  order_total_value  \n",
       "0      1976.0              0.50       home_appliances              38.71  \n",
       "1      1976.0              0.50       home_appliances              38.71  \n",
       "2      1976.0              0.50       home_appliances              38.71  \n",
       "3      4693.0              0.40             cosmetics             141.46  \n",
       "4      9576.0              0.42                  auto             179.12  \n",
       "\n",
       "[5 rows x 56 columns]"
      ]
     },
     "execution_count": 2,
     "metadata": {},
     "output_type": "execute_result"
    }
   ],
   "source": [
    "path = './Data/Cleaned/'\n",
    "filename = \"info_clients.csv\"\n",
    "df_source = pd.read_csv(path + filename)\n",
    "df_source.drop(columns=df_source.columns[0], axis=1, inplace=True)\n",
    "df_source.head()"
   ]
  },
  {
   "cell_type": "code",
   "execution_count": 3,
   "metadata": {},
   "outputs": [],
   "source": [
    "df_source[[\"order_purchase_date\",\"order_delivered_date\"]] = df_source[[\"order_purchase_date\",\"order_delivered_date\"]].apply(pd.to_datetime)"
   ]
  },
  {
   "cell_type": "code",
   "execution_count": 4,
   "metadata": {},
   "outputs": [
    {
     "data": {
      "text/plain": [
       "Timestamp('2016-09-15 12:16:38')"
      ]
     },
     "execution_count": 4,
     "metadata": {},
     "output_type": "execute_result"
    }
   ],
   "source": [
    "commande1 = df_source[\"order_purchase_date\"].min()\n",
    "commande1"
   ]
  },
  {
   "cell_type": "code",
   "execution_count": 5,
   "metadata": {},
   "outputs": [
    {
     "name": "stdout",
     "output_type": "stream",
     "text": [
      "Le jeu de données couvre une période de 23.00 mois (ou 101.87 semaines).\n"
     ]
    }
   ],
   "source": [
    "commandef = df_source[\"order_purchase_date\"].max()\n",
    "nb_mois = (commandef - commande1)/np.timedelta64(1,'M')\n",
    "nb_sem = (commandef - commande1)/np.timedelta64(1,'W')\n",
    "print(f\"Le jeu de données couvre une période de {nb_mois:.2f} mois (ou {nb_sem:.2f} semaines).\")"
   ]
  },
  {
   "cell_type": "code",
   "execution_count": 6,
   "metadata": {},
   "outputs": [
    {
     "name": "stdout",
     "output_type": "stream",
     "text": [
      "les 6 premiers mois compte 4731 commandes, soit 0.04% du dataset initial\n"
     ]
    }
   ],
   "source": [
    "# nous allons partir d'une base de 6 mois\n",
    "date_init = commande1 + pd.DateOffset(months=6)\n",
    "df_init = df_source[(df_source[\"order_purchase_date\"]>=commande1) & (df_source[\"order_purchase_date\"]<date_init)]\n",
    "print(f\"les 6 premiers mois compte {df_init.shape[0]} commandes, soit {df_init.shape[0]/df_source.shape[0]:.2f}% du dataset initial\")\n",
    "nb_periode_to_add = int(nb_mois-6)"
   ]
  },
  {
   "cell_type": "code",
   "execution_count": 7,
   "metadata": {},
   "outputs": [],
   "source": [
    "def prepa_feat(dataframe, date_ref) : \n",
    "    \"\"\"Prépare un dataframe avec la combinaison de features qui donne le meilleur résultat cf. résultat du notebook_02 \n",
    "\n",
    "    Args:\n",
    "        dataframe (DataFrame): dataframe avec les données sources\n",
    "        date_ref (date): date de fin de la cohorte\n",
    "    \"\"\"\n",
    "\n",
    "    # calcul recency\n",
    "    df_seg = dataframe.groupby(by=\"customer_unique_id\", as_index=False)[\"order_purchase_date\"].max()\n",
    "    df_seg[\"date\"] = pd.DatetimeIndex(df_seg[\"order_purchase_date\"]).date\n",
    "    ref = date_ref.date()\n",
    "    df_seg[\"recency\"] = df_seg[\"date\"].apply(lambda x: (ref-x).days)\n",
    "    df_seg.drop([\"order_purchase_date\",\"date\"], axis=1, inplace=True)\n",
    "\n",
    "    # calcul monetary\n",
    "    df_trans = pd.DataFrame(dataframe.groupby([\"customer_unique_id\",\"order_id\"],as_index=False).agg({\"payment_value\":\"sum\",\"nb_of_items\":\"count\"}))\n",
    "    df_trans[\"payment_value\"] = df_trans[\"payment_value\"]/df_trans[\"nb_of_items\"]\n",
    "\n",
    "    df_monetary = df_trans.groupby(\"customer_unique_id\", as_index=False)[\"payment_value\"].sum()\n",
    "    df_monetary.rename(columns={'payment_value':'monetary'}, inplace=True)\n",
    "    df_seg = df_seg.merge(df_monetary, how='left')\n",
    "\n",
    "    # calcul frequency\n",
    "    frequency = dataframe.groupby(by=\"customer_unique_id\", as_index=False)[\"order_id\"].nunique()\n",
    "    frequency.columns = [\"customer_unique_id\",\"frequency\"]\n",
    "    df_seg = df_seg.merge(frequency, how='left')\n",
    "\n",
    "    # calcul review\n",
    "    other = dataframe.groupby([\"customer_unique_id\",\"order_id\"], as_index=False)[\"review_score\"].mean()\n",
    "    other.drop(\"order_id\", axis=1, inplace=True)\n",
    "    other = other.groupby(\"customer_unique_id\", as_index=False).agg({\"review_score\":\"mean\"})\n",
    "    df_seg = df_seg.merge(other, how='left')\n",
    "\n",
    "    # calcul volume\n",
    "    volume = dataframe.groupby([\"customer_unique_id\",\"order_id\",\"order_item_id\"], as_index=False)[\"volume_cm3\"].mean()\n",
    "    volume.drop([\"order_id\",\"order_item_id\"], axis=1, inplace=True)\n",
    "    volume = volume.groupby(\"customer_unique_id\", as_index=False)[\"volume_cm3\"].mean()\n",
    "    df_seg = df_seg.merge(volume, how='left')\n",
    "\n",
    "    df_seg.set_index(\"customer_unique_id\", inplace=True)\n",
    "    return(df_seg)"
   ]
  },
  {
   "cell_type": "code",
   "execution_count": 8,
   "metadata": {},
   "outputs": [],
   "source": [
    "def prepro_kmeans(feat_cont, feat_discrete, dataframe_seg):\n",
    "    \"\"\"Preprocesse les données en vu de les traiter comme input dans un KMeans\n",
    "\n",
    "    Args:\n",
    "        feat_cont (liste): liste de variables continues\n",
    "        feat_discrete (liste): liste de variables discretes\n",
    "        dataframe_seg (DataFrame): dataframe avec les données nécessaires à la segmentation\n",
    "    \"\"\"\n",
    "    preprocessing = ColumnTransformer(\n",
    "        transformers=[\n",
    "            ('scale', MinMaxScaler(), feat_cont)],\n",
    "        remainder='passthrough')\n",
    "\n",
    "    preprocessing.set_output(transform='pandas')\n",
    "    df_seg_scl = preprocessing.fit_transform(dataframe_seg)\n",
    "    df_seg_scl.columns\n",
    "    cols = feat_cont + feat_discrete\n",
    "\n",
    "    df_seg_scl.columns = cols\n",
    "    df_seg_scl.dropna(inplace=True)\n",
    "    return(df_seg_scl)"
   ]
  },
  {
   "cell_type": "code",
   "execution_count": 9,
   "metadata": {},
   "outputs": [],
   "source": [
    "def get_labels(nb_cluster, X):\n",
    "    \"\"\"Fait un Kmeans et récupère les labels de la clusterisation\n",
    "\n",
    "    Args:\n",
    "        nb_cluster (int): nombre de clusters pour KMeans\n",
    "        X (DataFrame): données scalées pour KLMeans\n",
    "    \"\"\"\n",
    "    kmeans = KMeans(n_clusters=nb_cluster, init=\"k-means++\", n_init='auto', random_state=42)\n",
    "    kmeans.fit(X)\n",
    "    label = kmeans.labels_\n",
    "    return(label)"
   ]
  },
  {
   "cell_type": "markdown",
   "metadata": {},
   "source": [
    "# Cohorte initiale"
   ]
  },
  {
   "cell_type": "markdown",
   "metadata": {},
   "source": [
    "## Création des variables de la cohorte initiale"
   ]
  },
  {
   "cell_type": "code",
   "execution_count": 10,
   "metadata": {},
   "outputs": [],
   "source": [
    "# recency\n",
    "df_seg_init = df_init.groupby(by=\"customer_unique_id\", as_index=False)[\"order_purchase_date\"].max()\n",
    "df_seg_init[\"date\"] = pd.DatetimeIndex(df_seg_init[\"order_purchase_date\"]).date\n",
    "ref = date_init.date()\n",
    "df_seg_init[\"recency\"] = df_seg_init[\"date\"].apply(lambda x: (ref-x).days)\n",
    "df_seg_init.drop([\"order_purchase_date\",\"date\"], axis=1, inplace=True)"
   ]
  },
  {
   "cell_type": "code",
   "execution_count": 11,
   "metadata": {},
   "outputs": [],
   "source": [
    "# frequence\n",
    "frequency = df_init.groupby(by=\"customer_unique_id\", as_index=False)[\"order_id\"].nunique()\n",
    "frequency.columns = [\"customer_unique_id\",\"frequency\"]\n",
    "df_seg_init = df_seg_init.merge(frequency, how='left')"
   ]
  },
  {
   "cell_type": "code",
   "execution_count": 12,
   "metadata": {},
   "outputs": [],
   "source": [
    "#monetary\n",
    "df_trans = pd.DataFrame(df_init.groupby([\"customer_unique_id\",\"order_id\"],as_index=False).agg({\"payment_value\":\"sum\",\"nb_of_items\":\"count\"}))\n",
    "df_trans[\"payment_value\"] = df_trans[\"payment_value\"]/df_trans[\"nb_of_items\"]\n",
    "\n",
    "df_monetary = df_trans.groupby(\"customer_unique_id\", as_index=False)[\"payment_value\"].sum()\n",
    "df_monetary.rename(columns={'payment_value':'monetary'}, inplace=True)\n",
    "df_seg_init = df_seg_init.merge(df_monetary, how='left')"
   ]
  },
  {
   "cell_type": "code",
   "execution_count": 13,
   "metadata": {},
   "outputs": [],
   "source": [
    "# review score\n",
    "other = df_init.groupby([\"customer_unique_id\",\"order_id\"], as_index=False)[\"review_score\"].mean()\n",
    "other.drop(\"order_id\", axis=1, inplace=True)\n",
    "other = other.groupby(\"customer_unique_id\", as_index=False).agg({\"review_score\":\"mean\"})\n",
    "df_seg_init = df_seg_init.merge(other, how='left')"
   ]
  },
  {
   "cell_type": "code",
   "execution_count": 14,
   "metadata": {},
   "outputs": [],
   "source": [
    "# volume\n",
    "volume = df_init.groupby([\"customer_unique_id\",\"order_id\",\"order_item_id\"], as_index=False)[\"volume_cm3\"].mean()\n",
    "volume.drop([\"order_id\",\"order_item_id\"], axis=1, inplace=True)\n",
    "volume = volume.groupby(\"customer_unique_id\", as_index=False)[\"volume_cm3\"].mean()\n",
    "df_seg_init = df_seg_init.merge(volume, how='left')"
   ]
  },
  {
   "cell_type": "code",
   "execution_count": 15,
   "metadata": {},
   "outputs": [
    {
     "data": {
      "text/html": [
       "<div>\n",
       "<style scoped>\n",
       "    .dataframe tbody tr th:only-of-type {\n",
       "        vertical-align: middle;\n",
       "    }\n",
       "\n",
       "    .dataframe tbody tr th {\n",
       "        vertical-align: top;\n",
       "    }\n",
       "\n",
       "    .dataframe thead th {\n",
       "        text-align: right;\n",
       "    }\n",
       "</style>\n",
       "<table border=\"1\" class=\"dataframe\">\n",
       "  <thead>\n",
       "    <tr style=\"text-align: right;\">\n",
       "      <th></th>\n",
       "      <th>recency</th>\n",
       "      <th>frequency</th>\n",
       "      <th>monetary</th>\n",
       "      <th>review_score</th>\n",
       "      <th>volume_cm3</th>\n",
       "    </tr>\n",
       "    <tr>\n",
       "      <th>customer_unique_id</th>\n",
       "      <th></th>\n",
       "      <th></th>\n",
       "      <th></th>\n",
       "      <th></th>\n",
       "      <th></th>\n",
       "    </tr>\n",
       "  </thead>\n",
       "  <tbody>\n",
       "    <tr>\n",
       "      <th>0000f46a3911fa3c0805444483337064</th>\n",
       "      <td>5</td>\n",
       "      <td>1</td>\n",
       "      <td>86.22</td>\n",
       "      <td>3.0</td>\n",
       "      <td>43750.0</td>\n",
       "    </tr>\n",
       "    <tr>\n",
       "      <th>0005e1862207bf6ccc02e4228effd9a0</th>\n",
       "      <td>11</td>\n",
       "      <td>1</td>\n",
       "      <td>150.12</td>\n",
       "      <td>4.0</td>\n",
       "      <td>6600.0</td>\n",
       "    </tr>\n",
       "    <tr>\n",
       "      <th>00115fc7123b5310cf6d3a3aa932699e</th>\n",
       "      <td>53</td>\n",
       "      <td>1</td>\n",
       "      <td>76.11</td>\n",
       "      <td>4.0</td>\n",
       "      <td>9280.0</td>\n",
       "    </tr>\n",
       "    <tr>\n",
       "      <th>002b4cd83fabaffaa475f78ea5ef3e08</th>\n",
       "      <td>42</td>\n",
       "      <td>1</td>\n",
       "      <td>64.42</td>\n",
       "      <td>2.0</td>\n",
       "      <td>1600.0</td>\n",
       "    </tr>\n",
       "    <tr>\n",
       "      <th>0032c76b20340da25249092a268ce66c</th>\n",
       "      <td>160</td>\n",
       "      <td>1</td>\n",
       "      <td>144.94</td>\n",
       "      <td>4.0</td>\n",
       "      <td>54432.0</td>\n",
       "    </tr>\n",
       "  </tbody>\n",
       "</table>\n",
       "</div>"
      ],
      "text/plain": [
       "                                  recency  frequency  monetary  review_score  \\\n",
       "customer_unique_id                                                             \n",
       "0000f46a3911fa3c0805444483337064        5          1     86.22           3.0   \n",
       "0005e1862207bf6ccc02e4228effd9a0       11          1    150.12           4.0   \n",
       "00115fc7123b5310cf6d3a3aa932699e       53          1     76.11           4.0   \n",
       "002b4cd83fabaffaa475f78ea5ef3e08       42          1     64.42           2.0   \n",
       "0032c76b20340da25249092a268ce66c      160          1    144.94           4.0   \n",
       "\n",
       "                                  volume_cm3  \n",
       "customer_unique_id                            \n",
       "0000f46a3911fa3c0805444483337064     43750.0  \n",
       "0005e1862207bf6ccc02e4228effd9a0      6600.0  \n",
       "00115fc7123b5310cf6d3a3aa932699e      9280.0  \n",
       "002b4cd83fabaffaa475f78ea5ef3e08      1600.0  \n",
       "0032c76b20340da25249092a268ce66c     54432.0  "
      ]
     },
     "execution_count": 15,
     "metadata": {},
     "output_type": "execute_result"
    }
   ],
   "source": [
    "df_seg_init.set_index(\"customer_unique_id\", inplace=True)\n",
    "df_seg_init.head()"
   ]
  },
  {
   "cell_type": "markdown",
   "metadata": {},
   "source": [
    "## Préparation des variables pour le clustering"
   ]
  },
  {
   "cell_type": "code",
   "execution_count": 16,
   "metadata": {},
   "outputs": [],
   "source": [
    "feat_discrete = [\"frequency\",\"review_score\"]\n",
    "feat_cont = [\"recency\",\"monetary\",\"volume_cm3\"]"
   ]
  },
  {
   "cell_type": "code",
   "execution_count": 17,
   "metadata": {},
   "outputs": [
    {
     "data": {
      "text/html": [
       "<div>\n",
       "<style scoped>\n",
       "    .dataframe tbody tr th:only-of-type {\n",
       "        vertical-align: middle;\n",
       "    }\n",
       "\n",
       "    .dataframe tbody tr th {\n",
       "        vertical-align: top;\n",
       "    }\n",
       "\n",
       "    .dataframe thead th {\n",
       "        text-align: right;\n",
       "    }\n",
       "</style>\n",
       "<table border=\"1\" class=\"dataframe\">\n",
       "  <thead>\n",
       "    <tr style=\"text-align: right;\">\n",
       "      <th></th>\n",
       "      <th>recency</th>\n",
       "      <th>monetary</th>\n",
       "      <th>volume_cm3</th>\n",
       "      <th>frequency</th>\n",
       "      <th>review_score</th>\n",
       "    </tr>\n",
       "    <tr>\n",
       "      <th>customer_unique_id</th>\n",
       "      <th></th>\n",
       "      <th></th>\n",
       "      <th></th>\n",
       "      <th></th>\n",
       "      <th></th>\n",
       "    </tr>\n",
       "  </thead>\n",
       "  <tbody>\n",
       "    <tr>\n",
       "      <th>0000f46a3911fa3c0805444483337064</th>\n",
       "      <td>0.027624</td>\n",
       "      <td>0.011738</td>\n",
       "      <td>0.150882</td>\n",
       "      <td>1</td>\n",
       "      <td>3.0</td>\n",
       "    </tr>\n",
       "    <tr>\n",
       "      <th>0005e1862207bf6ccc02e4228effd9a0</th>\n",
       "      <td>0.060773</td>\n",
       "      <td>0.020967</td>\n",
       "      <td>0.021723</td>\n",
       "      <td>1</td>\n",
       "      <td>4.0</td>\n",
       "    </tr>\n",
       "    <tr>\n",
       "      <th>00115fc7123b5310cf6d3a3aa932699e</th>\n",
       "      <td>0.292818</td>\n",
       "      <td>0.010278</td>\n",
       "      <td>0.031040</td>\n",
       "      <td>1</td>\n",
       "      <td>4.0</td>\n",
       "    </tr>\n",
       "    <tr>\n",
       "      <th>002b4cd83fabaffaa475f78ea5ef3e08</th>\n",
       "      <td>0.232044</td>\n",
       "      <td>0.008590</td>\n",
       "      <td>0.004339</td>\n",
       "      <td>1</td>\n",
       "      <td>2.0</td>\n",
       "    </tr>\n",
       "    <tr>\n",
       "      <th>0032c76b20340da25249092a268ce66c</th>\n",
       "      <td>0.883978</td>\n",
       "      <td>0.020218</td>\n",
       "      <td>0.188021</td>\n",
       "      <td>1</td>\n",
       "      <td>4.0</td>\n",
       "    </tr>\n",
       "  </tbody>\n",
       "</table>\n",
       "</div>"
      ],
      "text/plain": [
       "                                   recency  monetary  volume_cm3  frequency  \\\n",
       "customer_unique_id                                                            \n",
       "0000f46a3911fa3c0805444483337064  0.027624  0.011738    0.150882          1   \n",
       "0005e1862207bf6ccc02e4228effd9a0  0.060773  0.020967    0.021723          1   \n",
       "00115fc7123b5310cf6d3a3aa932699e  0.292818  0.010278    0.031040          1   \n",
       "002b4cd83fabaffaa475f78ea5ef3e08  0.232044  0.008590    0.004339          1   \n",
       "0032c76b20340da25249092a268ce66c  0.883978  0.020218    0.188021          1   \n",
       "\n",
       "                                  review_score  \n",
       "customer_unique_id                              \n",
       "0000f46a3911fa3c0805444483337064           3.0  \n",
       "0005e1862207bf6ccc02e4228effd9a0           4.0  \n",
       "00115fc7123b5310cf6d3a3aa932699e           4.0  \n",
       "002b4cd83fabaffaa475f78ea5ef3e08           2.0  \n",
       "0032c76b20340da25249092a268ce66c           4.0  "
      ]
     },
     "execution_count": 17,
     "metadata": {},
     "output_type": "execute_result"
    }
   ],
   "source": [
    "preprocessing = ColumnTransformer(\n",
    "    transformers=[\n",
    "        ('scale', MinMaxScaler(), feat_cont)],\n",
    "    remainder='passthrough',\n",
    "    verbose_feature_names_out=False)\n",
    "\n",
    "preprocessing.set_output(transform='pandas')\n",
    "df_seg_init_scl = preprocessing.fit_transform(df_seg_init)\n",
    "\n",
    "df_seg_init_scl.head()"
   ]
  },
  {
   "cell_type": "code",
   "execution_count": 18,
   "metadata": {},
   "outputs": [
    {
     "data": {
      "text/plain": [
       "recency          0\n",
       "monetary         0\n",
       "volume_cm3       1\n",
       "frequency        0\n",
       "review_score    34\n",
       "dtype: int64"
      ]
     },
     "execution_count": 18,
     "metadata": {},
     "output_type": "execute_result"
    }
   ],
   "source": [
    "df_seg_init_scl.isna().sum()"
   ]
  },
  {
   "cell_type": "code",
   "execution_count": 19,
   "metadata": {},
   "outputs": [],
   "source": [
    "df_seg_init_scl.dropna(inplace=True)\n",
    "df_seg_init_scl.reset_index(inplace=True)"
   ]
  },
  {
   "cell_type": "code",
   "execution_count": 20,
   "metadata": {},
   "outputs": [],
   "source": [
    "df_seg_init_scl.set_index(\"customer_unique_id\", inplace=True)\n",
    "X = df_seg_init_scl"
   ]
  },
  {
   "cell_type": "markdown",
   "metadata": {},
   "source": [
    "## Résultat de la segmentation initiale"
   ]
  },
  {
   "cell_type": "code",
   "execution_count": 21,
   "metadata": {},
   "outputs": [],
   "source": [
    "# cf paramètres du modèle déterminés dans le notebook_02\n",
    "kmeans_init = KMeans(n_clusters=4, init=\"k-means++\", max_iter = 400, n_init='auto', random_state=42)\n",
    "kmeans_init.fit(X)\n",
    "clusters = kmeans_init.predict(X)\n",
    "label_init = kmeans_init.labels_"
   ]
  },
  {
   "cell_type": "markdown",
   "metadata": {},
   "source": [
    "# Suivi du ARI de la cohorte dans le temps"
   ]
  },
  {
   "cell_type": "markdown",
   "metadata": {},
   "source": [
    "L'indice de Rand mesure la similarité entre deux data clustering. Plus ARI est élevé, plus les clusterings sont proches l'un de l'autre:\n",
    "- 1 : un accord parfait entre les clusters\n",
    "- 0 : un accord random\n",
    "- (-1) : clusters complètement différents"
   ]
  },
  {
   "cell_type": "code",
   "execution_count": 22,
   "metadata": {},
   "outputs": [],
   "source": [
    "def maintenance_period(compte_periode):\n",
    "\n",
    "    \"\"\"\n",
    "    fonction qui retourne la période de maintenance comme la moyenne des durées des périodes avec ARI > 0.7\n",
    "    arg = la liste qui compte les périodes dont ARI > 0.70\n",
    "    \"\"\"\n",
    "    \n",
    "    list_periode=[]\n",
    "    periode = 1\n",
    "\n",
    "    for i in range(1,len(compte_periode)):\n",
    "        if compte_periode[i]==1:\n",
    "            periode +=1\n",
    "        if compte_periode[i]==0 :\n",
    "            if periode != 0:\n",
    "                list_periode.append(periode)\n",
    "                periode=0\n",
    "        if i == len(compte_periode)-1 and periode != 0:\n",
    "            list_periode.append(periode)\n",
    "    \n",
    "    moy = sum(list_periode)/len(list_periode)\n",
    "    return(moy)"
   ]
  },
  {
   "cell_type": "markdown",
   "metadata": {},
   "source": [
    "## Suivi par mois"
   ]
  },
  {
   "cell_type": "code",
   "execution_count": 23,
   "metadata": {},
   "outputs": [],
   "source": [
    "randindex = []\n",
    "cpt_m_above = []\n",
    "model_i = kmeans_init #correspond au model initial de comparaison, celui entrainé sur la database des 6 premiers mois\n",
    "nb_chg_m = 0 #variable qui permet de garder le compte du nombre de changement de base\n",
    "\n",
    "for i in range(1,nb_periode_to_add+1):\n",
    "    \n",
    "    date = date_init + np.timedelta64(i,'M')\n",
    "    df = df_source[df_source[\"order_purchase_date\"]<date]\n",
    "    \n",
    "    df_seg = prepa_feat(df, date)\n",
    "    \n",
    "    # les nouvelles données (6 mois + x semaines) sont préprocessées avec le scaler entrainé sur le modèle précédent (le modèle considéré comme étant la \"base\")\n",
    "    X_new_old = preprocessing.transform(df_seg) \n",
    "    X_new_old = pd.DataFrame(X_new_old, columns=feat_cont + feat_discrete)\n",
    "    X_new_old.dropna(inplace=True)\n",
    "\n",
    "    # les nouvelles données (6 mois + x semaines) sont préprocessées avec le scaler entrainé sur son dataset spécifique (6 mois + x semaines)\n",
    "    X_new_new = prepro_kmeans(feat_cont, feat_discrete, df_seg)\n",
    "    \n",
    "    label_old = model_i.predict(X_new_old) # segmentation des nouvelles données (6 mois initial + x mois) à partir du modele entrainé précedemment\n",
    "    label_new = get_labels(5,X_new_new) # segmentation des nouvelles données (6 mois initial + x mois) à partir du même modèle entrainé sur les données en question\n",
    "\n",
    "    ri_m = adjusted_rand_score(label_old, label_new)\n",
    "    randindex.append([i,ri_m])\n",
    "\n",
    "    if ri_m >= 0.70:\n",
    "        cpt_m_above.append(1)\n",
    "\n",
    "    if ri_m < 0.70: # 0.70 fixé comme seuil\n",
    "        # mise à jour du modele de base pour la suite des périodes\n",
    "        kmeans_new = KMeans(n_clusters=4, init=\"k-means++\", max_iter = 400, n_init='auto', random_state=42)\n",
    "        kmeans_new.fit(X_new_new)\n",
    "        model_i = kmeans_new\n",
    "        # mise à jour du scaler pour la suite des périodes\n",
    "        preprocessing = ColumnTransformer(transformers=[('scale', MinMaxScaler(), feat_cont)],remainder='passthrough',verbose_feature_names_out=False)\n",
    "        preprocessing.fit(df_seg)\n",
    "        # counter\n",
    "        nb_chg_m +=1\n",
    "        cpt_m_above.append(0)\n"
   ]
  },
  {
   "cell_type": "code",
   "execution_count": 24,
   "metadata": {},
   "outputs": [
    {
     "data": {
      "image/png": "[encoded data removed]",
      "text/plain": [
       "<Figure size 640x480 with 1 Axes>"
      ]
     },
     "metadata": {},
     "output_type": "display_data"
    }
   ],
   "source": [
    "randindex = pd.DataFrame(randindex, columns=[\"periode\",\"ARI\"])\n",
    "sns.lineplot(data=randindex, x=\"periode\", y=\"ARI\")\n",
    "plt.axhline(y=0.7, linestyle='--', color='green')\n",
    "plt.title(\"Stabilité temporelle de la segmentation K-Means\")\n",
    "plt.xlabel(\"Période (mois)\");"
   ]
  },
  {
   "cell_type": "code",
   "execution_count": 25,
   "metadata": {},
   "outputs": [
    {
     "data": {
      "text/plain": [
       "3.6666666666666665"
      ]
     },
     "execution_count": 25,
     "metadata": {},
     "output_type": "execute_result"
    }
   ],
   "source": [
    "maintenance_period(cpt_m_above)"
   ]
  },
  {
   "cell_type": "markdown",
   "metadata": {},
   "source": [
    "## Suivi par semaine"
   ]
  },
  {
   "cell_type": "code",
   "execution_count": 26,
   "metadata": {},
   "outputs": [
    {
     "name": "stdout",
     "output_type": "stream",
     "text": [
      "il y a 76.02 dans le jeu de données (après les 6 premiers mois)\n"
     ]
    }
   ],
   "source": [
    "nb_week = (commandef - date_init)/np.timedelta64(1,'W')\n",
    "print(f\"il y a {nb_week:.2f} dans le jeu de données (après les 6 premiers mois)\")\n",
    "nb_week = int(nb_week)"
   ]
  },
  {
   "cell_type": "code",
   "execution_count": 27,
   "metadata": {},
   "outputs": [],
   "source": [
    "RandIndexWeek = []\n",
    "cpt_w_above = []\n",
    "model_i = kmeans_init\n",
    "nb_chg_w = 0\n",
    "\n",
    "for i in range(1,nb_week+1):\n",
    "    \n",
    "    date = date_init + np.timedelta64(i,'W')\n",
    "    df = df_source[df_source[\"order_purchase_date\"]<date]\n",
    "\n",
    "    df_seg = prepa_feat(df, date)\n",
    "    \n",
    "    # les nouvelles données (6 mois + x semaines) sont préprocessées avec le scaler entrainé sur le modèle précédent (le modèle considéré comme étant la \"base\")\n",
    "    X_new_old = preprocessing.transform(df_seg) \n",
    "    X_new_old = pd.DataFrame(X_new_old, columns=feat_cont + feat_discrete)\n",
    "    X_new_old.dropna(inplace=True)\n",
    "\n",
    "    # les nouvelles données (6 mois + x semaines) sont préprocessées avec le scaler entrainé sur son dataset spécifique (6 mois + x semaines)\n",
    "    X_new_new = prepro_kmeans(feat_cont, feat_discrete, df_seg)\n",
    "    \n",
    "    label_old = model_i.predict(X_new_old) # segmentation des nouvelles data (6 mois initial + x mois) à partir du modele entrainé précedemment\n",
    "    label_new = get_labels(5,X_new_new) # segmentation des nouvelles data (6 mois initial + x mois) à partir du même modèle entrainé sur les données en question\n",
    "\n",
    "    ri_w = adjusted_rand_score(label_old, label_new)\n",
    "    RandIndexWeek.append([i,ri_w])\n",
    "\n",
    "    if ri_w >= 0.70:\n",
    "        cpt_w_above.append(1)\n",
    "\n",
    "    if ri_w < 0.70:\n",
    "        # mise à jour du modele de base pour la suite des périodes\n",
    "        kmeans_new = KMeans(n_clusters=4, init=\"k-means++\", max_iter = 400, n_init='auto', random_state=42)\n",
    "        kmeans_new.fit(X_new_new)\n",
    "        model_i = kmeans_new\n",
    "        # mise à jour du scaler pour la suite des périodes\n",
    "        preprocessing = ColumnTransformer(transformers=[('scale', MinMaxScaler(), feat_cont)],remainder='passthrough',verbose_feature_names_out=False)\n",
    "        preprocessing.fit(df_seg)\n",
    "        # count\n",
    "        nb_chg_w +=1\n",
    "        cpt_w_above.append(0)"
   ]
  },
  {
   "cell_type": "code",
   "execution_count": 28,
   "metadata": {},
   "outputs": [
    {
     "data": {
      "image/png": "[encoded data removed]",
      "text/plain": [
       "<Figure size 640x480 with 1 Axes>"
      ]
     },
     "metadata": {},
     "output_type": "display_data"
    }
   ],
   "source": [
    "RandIndexWeek = pd.DataFrame(RandIndexWeek, columns=[\"periode\",\"ARI\"])\n",
    "sns.lineplot(data=RandIndexWeek, x=\"periode\", y=\"ARI\")\n",
    "plt.axhline(y=0.7, linestyle='--', color='green')\n",
    "plt.title(\"Stabilité temporelle de la segmentation K-Means\")\n",
    "plt.xlabel(\"Période (semaine)\");"
   ]
  },
  {
   "cell_type": "code",
   "execution_count": 29,
   "metadata": {},
   "outputs": [
    {
     "data": {
      "text/plain": [
       "3.7142857142857144"
      ]
     },
     "execution_count": 29,
     "metadata": {},
     "output_type": "execute_result"
    }
   ],
   "source": [
    "maintenance_period(cpt_w_above)"
   ]
  }
 ],
 "metadata": {
  "kernelspec": {
   "display_name": "Python 3 (ipykernel)",
   "language": "python",
   "name": "python3"
  },
  "language_info": {
   "codemirror_mode": {
    "name": "ipython",
    "version": 3
   },
   "file_extension": ".py",
   "mimetype": "text/x-python",
   "name": "python",
   "nbconvert_exporter": "python",
   "pygments_lexer": "ipython3",
   "version": "3.9.6"
  },
  "toc": {
   "base_numbering": 1,
   "nav_menu": {},
   "number_sections": true,
   "sideBar": true,
   "skip_h1_title": false,
   "title_cell": "Table of Contents",
   "title_sidebar": "Contents",
   "toc_cell": true,
   "toc_position": {},
   "toc_section_display": true,
   "toc_window_display": false
  },
  "varInspector": {
   "cols": {
    "lenName": 16,
    "lenType": 16,
    "lenVar": 40
   },
   "kernels_config": {
    "python": {
     "delete_cmd_postfix": "",
     "delete_cmd_prefix": "del ",
     "library": "var_list.py",
     "varRefreshCmd": "print(var_dic_list())"
    },
    "r": {
     "delete_cmd_postfix": ") ",
     "delete_cmd_prefix": "rm(",
     "library": "var_list.r",
     "varRefreshCmd": "cat(var_dic_list()) "
    }
   },
   "types_to_exclude": [
    "module",
    "function",
    "builtin_function_or_method",
    "instance",
    "_Feature"
   ],
   "window_display": false
  }
 },
 "nbformat": 4,
 "nbformat_minor": 2
}
